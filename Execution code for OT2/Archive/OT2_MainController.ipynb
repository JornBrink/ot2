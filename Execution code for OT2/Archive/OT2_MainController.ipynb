{
 "cells": [
  {
   "cell_type": "code",
   "execution_count": 1,
   "metadata": {},
   "outputs": [
    {
     "name": "stdout",
     "output_type": "stream",
     "text": [
      "File Name: CommandList_PMID-MB01_EXPID-Platewithdots-E11_Boogert.Marijn.csv\n",
      "Perform simulation? (Y/N)Y\n"
     ]
    },
    {
     "name": "stderr",
     "output_type": "stream",
     "text": [
      "Out of bounds move: X=(418.00000000000006 motor controller, 416.19675834995206 deck) too high for limit 418.0\n",
      "Out of bounds move: Y=(353.00000000000006 motor controller, 353.017776612636 deck) too high for limit 353.0\n"
     ]
    },
    {
     "name": "stdout",
     "output_type": "stream",
     "text": [
      "Progress\t: 0%\n",
      "['labware_6' 'A1' 'labware_4' 'A1' '1750' '0' '1'\n",
      " 'Initial solvent distribution']\n",
      "Progress\t: 3%\n",
      "['labware_6' 'A1' 'labware_5' 'A1' '475' '0' '1'\n",
      " 'Initial solvent distribution']\n",
      "Progress\t: 7%\n",
      "['labware_6' 'A1' 'labware_4' 'A2' '712.5' '0' '1'\n",
      " 'Initial solvent distribution']\n",
      "Progress\t: 10%\n",
      "['labware_6' 'A1' 'labware_4' 'A3' '831.25' '0' '1'\n",
      " 'Initial solvent distribution']\n",
      "Progress\t: 14%\n",
      "['labware_6' 'A1' 'labware_4' 'A4' '890.625' '0' '1'\n",
      " 'Initial solvent distribution']\n",
      "Progress\t: 17%\n",
      "['labware_6' 'A1' 'labware_4' 'A5' '920.3125' '0' '1'\n",
      " 'Initial solvent distribution']\n",
      "Progress\t: 21%\n",
      "['labware_6' 'A1' 'labware_4' 'B1' '935.15625' '0' '1'\n",
      " 'Initial solvent distribution']\n",
      "Progress\t: 24%\n",
      "['labware_6' 'A1' 'labware_4' 'B2' '942.578125' '0' '1'\n",
      " 'Initial solvent distribution']\n",
      "Progress\t: 28%\n",
      "['labware_6' 'A1' 'labware_4' 'B3' '1301.1474609375' '0' '1'\n",
      " 'Initial solvent distribution']\n",
      "Progress\t: 31%\n",
      "['labware_9' 'A1' 'labware_4' 'B3' '591.4306640625' '591.4306640625' '2'\n",
      " 'Initial stock dilution']\n",
      "Progress\t: 34%\n",
      "['labware_4' 'B3' 'labware_4' 'B2' '942.578125' '942.578125' '3'\n",
      " 'Serially diluting to  TOB 4 MED_A']\n",
      "Progress\t: 38%\n",
      "['labware_4' 'B2' 'labware_4' 'B1' '935.15625' '935.15625' '4'\n",
      " 'Serially diluting to  TOB 2 MED_A']\n",
      "Progress\t: 41%\n",
      "['labware_4' 'B1' 'labware_4' 'A5' '920.3125' '920.3125' '5'\n",
      " 'Serially diluting to  TOB 1 MED_A']\n",
      "Progress\t: 45%\n",
      "['labware_4' 'A5' 'labware_4' 'A4' '890.625' '890.625' '6'\n",
      " 'Serially diluting to  TOB 0.5 MED_A']\n",
      "Progress\t: 48%\n",
      "['labware_4' 'A4' 'labware_4' 'A3' '831.25' '831.25' '7'\n",
      " 'Serially diluting to  TOB 0.25 MED_A']\n",
      "Progress\t: 52%\n",
      "['labware_4' 'A3' 'labware_4' 'A2' '712.5' '712.5' '8'\n",
      " 'Serially diluting to  TOB 0.125 MED_A']\n",
      "Progress\t: 55%\n",
      "['labware_4' 'A2' 'labware_5' 'A1' '475' '475' '9'\n",
      " 'Serially diluting to  TOB 0.0625 MED_A']\n",
      "Progress\t: 59%\n",
      "['labware_5' 'A1' 'labware_2' 'A9, B9, C9, D9, E9, F9, G9, H9' '100' '0'\n",
      " '10' 'Distributing  TOB 0.0625 MED_A']\n",
      "Progress\t: 62%\n",
      "['labware_4' 'A1' 'labware_2' 'A10, A11, B10, B11, C10, C11, D10, D11'\n",
      " '100' '0' '11' 'Distributing  TOB 0 MED_A']\n",
      "Progress\t: 66%\n",
      "['labware_4' 'A1' 'labware_2' 'E10, E11, F10, F11, G10, G11, H10, H11'\n",
      " '100' '0' '12' 'Distributing  TOB 0 MED_A']\n",
      "Progress\t: 69%\n",
      "['labware_4' 'A2' 'labware_2' 'A8, B8, C8, D8, E8, F8, G8, H8' '100' '0'\n",
      " '13' 'Distributing  TOB 0.125 MED_A']\n",
      "Progress\t: 72%\n",
      "['labware_4' 'A3' 'labware_2' 'A7, B7, C7, D7, E7, F7, G7, H7' '100' '0'\n",
      " '14' 'Distributing  TOB 0.25 MED_A']\n",
      "Progress\t: 76%\n",
      "['labware_4' 'A4' 'labware_2' 'A6, B6, C6, D6, E6, F6, G6, H6' '100' '0'\n",
      " '15' 'Distributing  TOB 0.5 MED_A']\n",
      "Progress\t: 79%\n",
      "['labware_4' 'A5' 'labware_2' 'A5, B5, C5, D5, E5, F5, G5, H5' '100' '0'\n",
      " '16' 'Distributing  TOB 1 MED_A']\n",
      "Progress\t: 83%\n",
      "['labware_4' 'B1' 'labware_2' 'A4, B4, C4, D4, E4, F4, G4, H4' '100' '0'\n",
      " '17' 'Distributing  TOB 2 MED_A']\n",
      "Progress\t: 86%\n",
      "['labware_4' 'B2' 'labware_2' 'A3, B3, C3, D3, E3, F3, G3, H3' '100' '0'\n",
      " '18' 'Distributing  TOB 4 MED_A']\n",
      "Progress\t: 90%\n",
      "['labware_4' 'B3' 'labware_2' 'A2, B2, C2, D2, E2, F2, G2, H2' '100' '0'\n",
      " '19' 'Distributing  TOB 8 MED_A']\n",
      "Progress\t: 93%\n",
      "['labware_6' 'A1' 'labware_2' 'A1, A12, B1, B12, C1, C12, D1, D12' '200'\n",
      " '0' '20' 'Filling outer wells with WATER']\n",
      "Progress\t: 97%\n",
      "['labware_6' 'A1' 'labware_2' 'E1, E12, F1, F12, G1, G12, H1, H12' '200'\n",
      " '0' '21' 'Filling outer wells with WATER']\n",
      "\n",
      "=====================================================\n",
      "SIMULATION COMPLETE -- EVERYTHING SEEMS OKAY (so far)\n",
      "=====================================================\n",
      "Continue run? (Y/N)Y\n",
      "Press ENTER to begin run. DON'T FORGET TO PREPARE THE ROBOT DECK\n"
     ]
    },
    {
     "name": "stderr",
     "output_type": "stream",
     "text": [
      "Failed to initialize character device, will not be able to control gpios (lights, button, smoothiekill, smoothie reset). Only one connection can be made to the gpios at a time. If you need to control gpios, first stop the robot server with systemctl stop opentrons-robot-server. Until you restart the server with systemctl start opentrons-robot-server, you will be unable to control the robot using the Opentrons app.\n",
      "Out of bounds move: X=(418.00000000000006 motor controller, 416.2082266039508 deck) too high for limit 418\n",
      "Out of bounds move: X=(418.00000000000006 motor controller, 416.2082266039508 deck) too high for limit 418\n",
      "Out of bounds move: X=(418.00000000000006 motor controller, 416.2082266039508 deck) too high for limit 418\n"
     ]
    },
    {
     "name": "stdout",
     "output_type": "stream",
     "text": [
      "Progress\t: 0%\n",
      "['labware_6' 'A1' 'labware_4' 'A1' '1750' '0' '1'\n",
      " 'Initial solvent distribution']\n"
     ]
    },
    {
     "name": "stderr",
     "output_type": "stream",
     "text": [
      "alarm/error outside hard halt: ALARM: Hard limit +A\n",
      "alarm/error: command=M907 A0.8 B0.3 C0.3 X0.3 Y0.3 Z0.1 G4P0.005 G0A199.0, resp=ALARM: Hard limit +A\n"
     ]
    },
    {
     "name": "stdout",
     "output_type": "stream",
     "text": [
      "Progress\t: 3%\n",
      "['labware_6' 'A1' 'labware_5' 'A1' '475' '0' '1'\n",
      " 'Initial solvent distribution']\n",
      "Progress\t: 7%\n",
      "['labware_6' 'A1' 'labware_4' 'A2' '712.5' '0' '1'\n",
      " 'Initial solvent distribution']\n",
      "Progress\t: 10%\n",
      "['labware_6' 'A1' 'labware_4' 'A3' '831.25' '0' '1'\n",
      " 'Initial solvent distribution']\n",
      "Progress\t: 14%\n",
      "['labware_6' 'A1' 'labware_4' 'A4' '890.625' '0' '1'\n",
      " 'Initial solvent distribution']\n",
      "Progress\t: 17%\n",
      "['labware_6' 'A1' 'labware_4' 'A5' '920.3125' '0' '1'\n",
      " 'Initial solvent distribution']\n",
      "Progress\t: 21%\n",
      "['labware_6' 'A1' 'labware_4' 'B1' '935.15625' '0' '1'\n",
      " 'Initial solvent distribution']\n",
      "Progress\t: 24%\n",
      "['labware_6' 'A1' 'labware_4' 'B2' '942.578125' '0' '1'\n",
      " 'Initial solvent distribution']\n",
      "Progress\t: 28%\n",
      "['labware_6' 'A1' 'labware_4' 'B3' '1301.1474609375' '0' '1'\n",
      " 'Initial solvent distribution']\n"
     ]
    },
    {
     "name": "stderr",
     "output_type": "stream",
     "text": [
      "Out of bounds move: Y=(352.52018747444237 motor controller, 352.5 deck) too high for limit 350.0\n",
      "Out of bounds move: Y=(352.52018747444237 motor controller, 352.5 deck) too high for limit 350.0\n",
      "Out of bounds move: Y=(352.52018747444237 motor controller, 352.5 deck) too high for limit 350.0\n",
      "Out of bounds move: Y=(352.52018747444237 motor controller, 352.5 deck) too high for limit 350.0\n",
      "Out of bounds move: Y=(352.525 motor controller, 352.5048087504201 deck) too high for limit 350.0\n",
      "Out of bounds move: Y=(352.525 motor controller, 352.5048087504201 deck) too high for limit 350.0\n"
     ]
    },
    {
     "name": "stdout",
     "output_type": "stream",
     "text": [
      "Progress\t: 31%\n",
      "['labware_9' 'A1' 'labware_4' 'B3' '591.4306640625' '591.4306640625' '2'\n",
      " 'Initial stock dilution']\n"
     ]
    },
    {
     "name": "stderr",
     "output_type": "stream",
     "text": [
      "Out of bounds move: Y=(352.52018747444237 motor controller, 352.5 deck) too high for limit 350.0\n",
      "Out of bounds move: Y=(352.52018747444237 motor controller, 352.5 deck) too high for limit 350.0\n",
      "Out of bounds move: Y=(352.52018747444237 motor controller, 352.5 deck) too high for limit 350.0\n",
      "Out of bounds move: Y=(352.52018747444237 motor controller, 352.5 deck) too high for limit 350.0\n",
      "Out of bounds move: Y=(352.525 motor controller, 352.5048087504201 deck) too high for limit 350.0\n",
      "Out of bounds move: Y=(352.525 motor controller, 352.5048087504201 deck) too high for limit 350.0\n"
     ]
    },
    {
     "name": "stdout",
     "output_type": "stream",
     "text": [
      "Progress\t: 34%\n",
      "['labware_4' 'B3' 'labware_4' 'B2' '942.578125' '942.578125' '3'\n",
      " 'Serially diluting to  TOB 4 MED_A']\n"
     ]
    },
    {
     "name": "stderr",
     "output_type": "stream",
     "text": [
      "Out of bounds move: Y=(352.52018747444237 motor controller, 352.5 deck) too high for limit 350.0\n",
      "Out of bounds move: Y=(352.52018747444237 motor controller, 352.5 deck) too high for limit 350.0\n",
      "Out of bounds move: Y=(352.52018747444237 motor controller, 352.5 deck) too high for limit 350.0\n",
      "Out of bounds move: Y=(352.52018747444237 motor controller, 352.5 deck) too high for limit 350.0\n",
      "Out of bounds move: Y=(352.525 motor controller, 352.5048087504201 deck) too high for limit 350.0\n",
      "Out of bounds move: Y=(352.525 motor controller, 352.5048087504201 deck) too high for limit 350.0\n"
     ]
    },
    {
     "name": "stdout",
     "output_type": "stream",
     "text": [
      "Progress\t: 38%\n",
      "['labware_4' 'B2' 'labware_4' 'B1' '935.15625' '935.15625' '4'\n",
      " 'Serially diluting to  TOB 2 MED_A']\n"
     ]
    },
    {
     "name": "stderr",
     "output_type": "stream",
     "text": [
      "Out of bounds move: Y=(352.52018747444237 motor controller, 352.5 deck) too high for limit 350.0\n",
      "Out of bounds move: Y=(352.52018747444237 motor controller, 352.5 deck) too high for limit 350.0\n",
      "Out of bounds move: Y=(352.52018747444237 motor controller, 352.5 deck) too high for limit 350.0\n",
      "Out of bounds move: Y=(352.52018747444237 motor controller, 352.5 deck) too high for limit 350.0\n",
      "Out of bounds move: Y=(352.525 motor controller, 352.5048087504201 deck) too high for limit 350.0\n",
      "Out of bounds move: Y=(352.525 motor controller, 352.5048087504201 deck) too high for limit 350.0\n"
     ]
    },
    {
     "name": "stdout",
     "output_type": "stream",
     "text": [
      "Progress\t: 41%\n",
      "['labware_4' 'B1' 'labware_4' 'A5' '920.3125' '920.3125' '5'\n",
      " 'Serially diluting to  TOB 1 MED_A']\n"
     ]
    },
    {
     "name": "stderr",
     "output_type": "stream",
     "text": [
      "Out of bounds move: Y=(352.52018747444237 motor controller, 352.5 deck) too high for limit 350.0\n",
      "Out of bounds move: Y=(352.52018747444237 motor controller, 352.5 deck) too high for limit 350.0\n",
      "Out of bounds move: Y=(352.52018747444237 motor controller, 352.5 deck) too high for limit 350.0\n",
      "Out of bounds move: Y=(352.52018747444237 motor controller, 352.5 deck) too high for limit 350.0\n",
      "Out of bounds move: Y=(352.525 motor controller, 352.5048087504201 deck) too high for limit 350.0\n",
      "Out of bounds move: Y=(352.525 motor controller, 352.5048087504201 deck) too high for limit 350.0\n"
     ]
    },
    {
     "name": "stdout",
     "output_type": "stream",
     "text": [
      "Progress\t: 45%\n",
      "['labware_4' 'A5' 'labware_4' 'A4' '890.625' '890.625' '6'\n",
      " 'Serially diluting to  TOB 0.5 MED_A']\n"
     ]
    },
    {
     "name": "stderr",
     "output_type": "stream",
     "text": [
      "Out of bounds move: Y=(352.52018747444237 motor controller, 352.5 deck) too high for limit 350.0\n",
      "Out of bounds move: Y=(352.52018747444237 motor controller, 352.5 deck) too high for limit 350.0\n",
      "Out of bounds move: Y=(352.52018747444237 motor controller, 352.5 deck) too high for limit 350.0\n",
      "Out of bounds move: Y=(352.52018747444237 motor controller, 352.5 deck) too high for limit 350.0\n",
      "Out of bounds move: Y=(352.525 motor controller, 352.5048087504201 deck) too high for limit 350.0\n",
      "Out of bounds move: Y=(352.525 motor controller, 352.5048087504201 deck) too high for limit 350.0\n"
     ]
    },
    {
     "name": "stdout",
     "output_type": "stream",
     "text": [
      "Progress\t: 48%\n",
      "['labware_4' 'A4' 'labware_4' 'A3' '831.25' '831.25' '7'\n",
      " 'Serially diluting to  TOB 0.25 MED_A']\n"
     ]
    },
    {
     "name": "stderr",
     "output_type": "stream",
     "text": [
      "Out of bounds move: Y=(352.52018747444237 motor controller, 352.5 deck) too high for limit 350.0\n",
      "Out of bounds move: Y=(352.52018747444237 motor controller, 352.5 deck) too high for limit 350.0\n",
      "Out of bounds move: Y=(352.52018747444237 motor controller, 352.5 deck) too high for limit 350.0\n",
      "Out of bounds move: Y=(352.52018747444237 motor controller, 352.5 deck) too high for limit 350.0\n",
      "Out of bounds move: Y=(352.525 motor controller, 352.5048087504201 deck) too high for limit 350.0\n",
      "Out of bounds move: Y=(352.525 motor controller, 352.5048087504201 deck) too high for limit 350.0\n"
     ]
    },
    {
     "name": "stdout",
     "output_type": "stream",
     "text": [
      "Progress\t: 52%\n",
      "['labware_4' 'A3' 'labware_4' 'A2' '712.5' '712.5' '8'\n",
      " 'Serially diluting to  TOB 0.125 MED_A']\n"
     ]
    },
    {
     "name": "stderr",
     "output_type": "stream",
     "text": [
      "Out of bounds move: Y=(352.52018747444237 motor controller, 352.5 deck) too high for limit 350.0\n",
      "Out of bounds move: Y=(352.52018747444237 motor controller, 352.5 deck) too high for limit 350.0\n",
      "Out of bounds move: Y=(352.52018747444237 motor controller, 352.5 deck) too high for limit 350.0\n",
      "Out of bounds move: Y=(352.52018747444237 motor controller, 352.5 deck) too high for limit 350.0\n",
      "Out of bounds move: Y=(352.525 motor controller, 352.5048087504201 deck) too high for limit 350.0\n",
      "Out of bounds move: Y=(352.525 motor controller, 352.5048087504201 deck) too high for limit 350.0\n"
     ]
    },
    {
     "name": "stdout",
     "output_type": "stream",
     "text": [
      "Progress\t: 55%\n",
      "['labware_4' 'A2' 'labware_5' 'A1' '475' '475' '9'\n",
      " 'Serially diluting to  TOB 0.0625 MED_A']\n"
     ]
    },
    {
     "name": "stderr",
     "output_type": "stream",
     "text": [
      "Out of bounds move: Y=(352.52018747444237 motor controller, 352.5 deck) too high for limit 350.0\n",
      "Out of bounds move: Y=(352.52018747444237 motor controller, 352.5 deck) too high for limit 350.0\n",
      "Out of bounds move: Y=(352.52018747444237 motor controller, 352.5 deck) too high for limit 350.0\n",
      "Out of bounds move: Y=(352.52018747444237 motor controller, 352.5 deck) too high for limit 350.0\n",
      "Out of bounds move: Y=(352.525 motor controller, 352.5048087504201 deck) too high for limit 350.0\n",
      "Out of bounds move: Y=(352.525 motor controller, 352.5048087504201 deck) too high for limit 350.0\n"
     ]
    },
    {
     "name": "stdout",
     "output_type": "stream",
     "text": [
      "Progress\t: 59%\n",
      "['labware_5' 'A1' 'labware_2' 'A9, B9, C9, D9, E9, F9, G9, H9' '100' '0'\n",
      " '10' 'Distributing  TOB 0.0625 MED_A']\n"
     ]
    },
    {
     "name": "stderr",
     "output_type": "stream",
     "text": [
      "Out of bounds move: Y=(352.52018747444237 motor controller, 352.5 deck) too high for limit 350.0\n",
      "Out of bounds move: Y=(352.52018747444237 motor controller, 352.5 deck) too high for limit 350.0\n",
      "Out of bounds move: Y=(352.52018747444237 motor controller, 352.5 deck) too high for limit 350.0\n",
      "Out of bounds move: Y=(352.52018747444237 motor controller, 352.5 deck) too high for limit 350.0\n",
      "Out of bounds move: Y=(352.525 motor controller, 352.5048087504201 deck) too high for limit 350.0\n",
      "Out of bounds move: Y=(352.525 motor controller, 352.5048087504201 deck) too high for limit 350.0\n"
     ]
    },
    {
     "name": "stdout",
     "output_type": "stream",
     "text": [
      "Progress\t: 62%\n",
      "['labware_4' 'A1' 'labware_2' 'A10, A11, B10, B11, C10, C11, D10, D11'\n",
      " '100' '0' '11' 'Distributing  TOB 0 MED_A']\n"
     ]
    },
    {
     "name": "stderr",
     "output_type": "stream",
     "text": [
      "Out of bounds move: Y=(352.52018747444237 motor controller, 352.5 deck) too high for limit 350.0\n",
      "Out of bounds move: Y=(352.52018747444237 motor controller, 352.5 deck) too high for limit 350.0\n",
      "Out of bounds move: Y=(352.52018747444237 motor controller, 352.5 deck) too high for limit 350.0\n",
      "Out of bounds move: Y=(352.52018747444237 motor controller, 352.5 deck) too high for limit 350.0\n",
      "Out of bounds move: Y=(352.525 motor controller, 352.5048087504201 deck) too high for limit 350.0\n",
      "Out of bounds move: Y=(352.525 motor controller, 352.5048087504201 deck) too high for limit 350.0\n"
     ]
    },
    {
     "name": "stdout",
     "output_type": "stream",
     "text": [
      "Progress\t: 66%\n",
      "['labware_4' 'A1' 'labware_2' 'E10, E11, F10, F11, G10, G11, H10, H11'\n",
      " '100' '0' '12' 'Distributing  TOB 0 MED_A']\n"
     ]
    },
    {
     "name": "stderr",
     "output_type": "stream",
     "text": [
      "Out of bounds move: Y=(352.52018747444237 motor controller, 352.5 deck) too high for limit 350.0\n",
      "Out of bounds move: Y=(352.52018747444237 motor controller, 352.5 deck) too high for limit 350.0\n",
      "Out of bounds move: Y=(352.52018747444237 motor controller, 352.5 deck) too high for limit 350.0\n",
      "Out of bounds move: Y=(352.52018747444237 motor controller, 352.5 deck) too high for limit 350.0\n",
      "Out of bounds move: Y=(352.525 motor controller, 352.5048087504201 deck) too high for limit 350.0\n",
      "Out of bounds move: Y=(352.525 motor controller, 352.5048087504201 deck) too high for limit 350.0\n"
     ]
    },
    {
     "name": "stdout",
     "output_type": "stream",
     "text": [
      "Progress\t: 69%\n",
      "['labware_4' 'A2' 'labware_2' 'A8, B8, C8, D8, E8, F8, G8, H8' '100' '0'\n",
      " '13' 'Distributing  TOB 0.125 MED_A']\n"
     ]
    },
    {
     "name": "stderr",
     "output_type": "stream",
     "text": [
      "Out of bounds move: Y=(352.52018747444237 motor controller, 352.5 deck) too high for limit 350.0\n",
      "Out of bounds move: Y=(352.52018747444237 motor controller, 352.5 deck) too high for limit 350.0\n",
      "Out of bounds move: Y=(352.52018747444237 motor controller, 352.5 deck) too high for limit 350.0\n",
      "Out of bounds move: Y=(352.52018747444237 motor controller, 352.5 deck) too high for limit 350.0\n",
      "Out of bounds move: Y=(352.525 motor controller, 352.5048087504201 deck) too high for limit 350.0\n",
      "Out of bounds move: Y=(352.525 motor controller, 352.5048087504201 deck) too high for limit 350.0\n"
     ]
    },
    {
     "name": "stdout",
     "output_type": "stream",
     "text": [
      "Progress\t: 72%\n",
      "['labware_4' 'A3' 'labware_2' 'A7, B7, C7, D7, E7, F7, G7, H7' '100' '0'\n",
      " '14' 'Distributing  TOB 0.25 MED_A']\n"
     ]
    },
    {
     "name": "stderr",
     "output_type": "stream",
     "text": [
      "Out of bounds move: Y=(352.52018747444237 motor controller, 352.5 deck) too high for limit 350.0\n",
      "Out of bounds move: Y=(352.52018747444237 motor controller, 352.5 deck) too high for limit 350.0\n",
      "Out of bounds move: Y=(352.52018747444237 motor controller, 352.5 deck) too high for limit 350.0\n",
      "Out of bounds move: Y=(352.52018747444237 motor controller, 352.5 deck) too high for limit 350.0\n",
      "Out of bounds move: Y=(352.525 motor controller, 352.5048087504201 deck) too high for limit 350.0\n",
      "Out of bounds move: Y=(352.525 motor controller, 352.5048087504201 deck) too high for limit 350.0\n"
     ]
    },
    {
     "name": "stdout",
     "output_type": "stream",
     "text": [
      "Progress\t: 76%\n",
      "['labware_4' 'A4' 'labware_2' 'A6, B6, C6, D6, E6, F6, G6, H6' '100' '0'\n",
      " '15' 'Distributing  TOB 0.5 MED_A']\n"
     ]
    },
    {
     "name": "stderr",
     "output_type": "stream",
     "text": [
      "Out of bounds move: Y=(352.52018747444237 motor controller, 352.5 deck) too high for limit 350.0\n",
      "Out of bounds move: Y=(352.52018747444237 motor controller, 352.5 deck) too high for limit 350.0\n",
      "Out of bounds move: Y=(352.52018747444237 motor controller, 352.5 deck) too high for limit 350.0\n",
      "Out of bounds move: Y=(352.52018747444237 motor controller, 352.5 deck) too high for limit 350.0\n",
      "Out of bounds move: Y=(352.525 motor controller, 352.5048087504201 deck) too high for limit 350.0\n",
      "Out of bounds move: Y=(352.525 motor controller, 352.5048087504201 deck) too high for limit 350.0\n"
     ]
    },
    {
     "name": "stdout",
     "output_type": "stream",
     "text": [
      "Progress\t: 79%\n",
      "['labware_4' 'A5' 'labware_2' 'A5, B5, C5, D5, E5, F5, G5, H5' '100' '0'\n",
      " '16' 'Distributing  TOB 1 MED_A']\n"
     ]
    },
    {
     "name": "stderr",
     "output_type": "stream",
     "text": [
      "Out of bounds move: Y=(352.52018747444237 motor controller, 352.5 deck) too high for limit 350.0\n",
      "Out of bounds move: Y=(352.52018747444237 motor controller, 352.5 deck) too high for limit 350.0\n",
      "Out of bounds move: Y=(352.52018747444237 motor controller, 352.5 deck) too high for limit 350.0\n",
      "Out of bounds move: Y=(352.52018747444237 motor controller, 352.5 deck) too high for limit 350.0\n",
      "Out of bounds move: Y=(352.525 motor controller, 352.5048087504201 deck) too high for limit 350.0\n",
      "Out of bounds move: Y=(352.525 motor controller, 352.5048087504201 deck) too high for limit 350.0\n"
     ]
    },
    {
     "name": "stdout",
     "output_type": "stream",
     "text": [
      "Progress\t: 83%\n",
      "['labware_4' 'B1' 'labware_2' 'A4, B4, C4, D4, E4, F4, G4, H4' '100' '0'\n",
      " '17' 'Distributing  TOB 2 MED_A']\n"
     ]
    },
    {
     "name": "stderr",
     "output_type": "stream",
     "text": [
      "Out of bounds move: Y=(352.52018747444237 motor controller, 352.5 deck) too high for limit 350.0\n",
      "Out of bounds move: Y=(352.52018747444237 motor controller, 352.5 deck) too high for limit 350.0\n",
      "Out of bounds move: Y=(352.52018747444237 motor controller, 352.5 deck) too high for limit 350.0\n",
      "Out of bounds move: Y=(352.52018747444237 motor controller, 352.5 deck) too high for limit 350.0\n",
      "Out of bounds move: Y=(352.525 motor controller, 352.5048087504201 deck) too high for limit 350.0\n",
      "Out of bounds move: Y=(352.525 motor controller, 352.5048087504201 deck) too high for limit 350.0\n"
     ]
    },
    {
     "name": "stdout",
     "output_type": "stream",
     "text": [
      "Progress\t: 86%\n",
      "['labware_4' 'B2' 'labware_2' 'A3, B3, C3, D3, E3, F3, G3, H3' '100' '0'\n",
      " '18' 'Distributing  TOB 4 MED_A']\n"
     ]
    },
    {
     "name": "stderr",
     "output_type": "stream",
     "text": [
      "Out of bounds move: Y=(352.52018747444237 motor controller, 352.5 deck) too high for limit 350.0\n",
      "Out of bounds move: Y=(352.52018747444237 motor controller, 352.5 deck) too high for limit 350.0\n",
      "Out of bounds move: Y=(352.52018747444237 motor controller, 352.5 deck) too high for limit 350.0\n",
      "Out of bounds move: Y=(352.52018747444237 motor controller, 352.5 deck) too high for limit 350.0\n",
      "Out of bounds move: Y=(352.525 motor controller, 352.5048087504201 deck) too high for limit 350.0\n",
      "Out of bounds move: Y=(352.525 motor controller, 352.5048087504201 deck) too high for limit 350.0\n"
     ]
    },
    {
     "name": "stdout",
     "output_type": "stream",
     "text": [
      "Progress\t: 90%\n",
      "['labware_4' 'B3' 'labware_2' 'A2, B2, C2, D2, E2, F2, G2, H2' '100' '0'\n",
      " '19' 'Distributing  TOB 8 MED_A']\n"
     ]
    },
    {
     "name": "stderr",
     "output_type": "stream",
     "text": [
      "Out of bounds move: Y=(352.52018747444237 motor controller, 352.5 deck) too high for limit 350.0\n",
      "Out of bounds move: Y=(352.52018747444237 motor controller, 352.5 deck) too high for limit 350.0\n",
      "Out of bounds move: Y=(352.52018747444237 motor controller, 352.5 deck) too high for limit 350.0\n",
      "Out of bounds move: Y=(352.52018747444237 motor controller, 352.5 deck) too high for limit 350.0\n",
      "Out of bounds move: Y=(352.525 motor controller, 352.5048087504201 deck) too high for limit 350.0\n",
      "Out of bounds move: Y=(352.525 motor controller, 352.5048087504201 deck) too high for limit 350.0\n"
     ]
    },
    {
     "name": "stdout",
     "output_type": "stream",
     "text": [
      "Progress\t: 93%\n",
      "['labware_6' 'A1' 'labware_2' 'A1, A12, B1, B12, C1, C12, D1, D12' '200'\n",
      " '0' '20' 'Filling outer wells with WATER']\n"
     ]
    },
    {
     "name": "stderr",
     "output_type": "stream",
     "text": [
      "Out of bounds move: Y=(352.52018747444237 motor controller, 352.5 deck) too high for limit 350.0\n",
      "Out of bounds move: Y=(352.52018747444237 motor controller, 352.5 deck) too high for limit 350.0\n",
      "Out of bounds move: Y=(352.52018747444237 motor controller, 352.5 deck) too high for limit 350.0\n",
      "Out of bounds move: Y=(352.52018747444237 motor controller, 352.5 deck) too high for limit 350.0\n",
      "Out of bounds move: Y=(352.525 motor controller, 352.5048087504201 deck) too high for limit 350.0\n",
      "Out of bounds move: Y=(352.525 motor controller, 352.5048087504201 deck) too high for limit 350.0\n"
     ]
    },
    {
     "name": "stdout",
     "output_type": "stream",
     "text": [
      "Progress\t: 97%\n",
      "['labware_6' 'A1' 'labware_2' 'E1, E12, F1, F12, G1, G12, H1, H12' '200'\n",
      " '0' '21' 'Filling outer wells with WATER']\n"
     ]
    },
    {
     "name": "stderr",
     "output_type": "stream",
     "text": [
      "Out of bounds move: Y=(352.52018747444237 motor controller, 352.5 deck) too high for limit 350.0\n",
      "Out of bounds move: Y=(352.52018747444237 motor controller, 352.5 deck) too high for limit 350.0\n",
      "Out of bounds move: Y=(352.52018747444237 motor controller, 352.5 deck) too high for limit 350.0\n",
      "Out of bounds move: Y=(352.52018747444237 motor controller, 352.5 deck) too high for limit 350.0\n",
      "Out of bounds move: Y=(352.525 motor controller, 352.5048087504201 deck) too high for limit 350.0\n"
     ]
    }
   ],
   "source": [
    "#spare: exec(compile(open(\"/var/lib/jupyter/notebooks/MainExec.py\", \"rb\").read(), \"SeparatedCommaned.py\", 'exec'))\n",
    "###### HOW TO USE #####\n",
    "# 1. Don't freak out\n",
    "# 2. Click the \"refresh kernel\" button (it's beside the stop button)\n",
    "# 3. Click \">| Run\" button\n",
    "\n",
    "# 4. Put in your file name (include the csv); then press enter. quotation marks are not needed\n",
    "\n",
    "# 5. Wait for the simulation to complete. This step will check if an error is going to occur.\n",
    "#    > This will take ~3 minutes\n",
    "\n",
    "# 6. If everything went well, you will see: \"SIMULATION COMPLETE\", and will ask your permission to continue the run\n",
    "#    > To continue run, fill \"Y\", then press ENTER\n",
    "#    > as final confirmation, press ENTER again\n",
    "#    > If otherwise an error was found, you can choose to continue the run anyway, or cancel it (fill \"N\", then press ENTER)\n",
    "\n",
    "\n",
    "exec(compile(open(\"/var/lib/jupyter/notebooks/MainExec.py\", \"rb\").read(), \"SeparatedCommaned.py\", 'exec'))\n",
    "\n",
    "\n",
    "\n",
    "#exec(compile(open(\"/var/lib/jupyter/notebooks/MainExec.py\", \"rb\").read(), \"SeparatedCommaned.py\", 'exec'))\n"
   ]
  },
  {
   "cell_type": "code",
   "execution_count": null,
   "metadata": {},
   "outputs": [],
   "source": []
  }
 ],
 "metadata": {
  "kernelspec": {
   "display_name": "Python 3",
   "language": "python",
   "name": "python3"
  },
  "language_info": {
   "codemirror_mode": {
    "name": "ipython",
    "version": 3
   },
   "file_extension": ".py",
   "mimetype": "text/x-python",
   "name": "python",
   "nbconvert_exporter": "python",
   "pygments_lexer": "ipython3",
   "version": "3.7.1"
  }
 },
 "nbformat": 4,
 "nbformat_minor": 4
}
