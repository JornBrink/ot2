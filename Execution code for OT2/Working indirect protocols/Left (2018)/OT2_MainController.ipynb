{
 "cells": [
  {
   "cell_type": "code",
   "execution_count": 2,
   "metadata": {
    "scrolled": false
   },
   "outputs": [
    {
     "ename": "FileNotFoundError",
     "evalue": "[Errno 2] No such file or directory: '/var/lib/jupyter/notebooks/MainExec.py'",
     "output_type": "error",
     "traceback": [
      "\u001b[1;31m---------------------------------------------------------------------------\u001b[0m",
      "\u001b[1;31mFileNotFoundError\u001b[0m                         Traceback (most recent call last)",
      "\u001b[1;32m~\\AppData\\Local\\Temp/ipykernel_8436/1775809858.py\u001b[0m in \u001b[0;36m<module>\u001b[1;34m\u001b[0m\n\u001b[0;32m     15\u001b[0m \u001b[1;33m\u001b[0m\u001b[0m\n\u001b[0;32m     16\u001b[0m \u001b[1;33m\u001b[0m\u001b[0m\n\u001b[1;32m---> 17\u001b[1;33m \u001b[0mexec\u001b[0m\u001b[1;33m(\u001b[0m\u001b[0mcompile\u001b[0m\u001b[1;33m(\u001b[0m\u001b[0mopen\u001b[0m\u001b[1;33m(\u001b[0m\u001b[1;34m\"/var/lib/jupyter/notebooks/MainExec.py\"\u001b[0m\u001b[1;33m,\u001b[0m \u001b[1;34m\"rb\"\u001b[0m\u001b[1;33m)\u001b[0m\u001b[1;33m.\u001b[0m\u001b[0mread\u001b[0m\u001b[1;33m(\u001b[0m\u001b[1;33m)\u001b[0m\u001b[1;33m,\u001b[0m \u001b[1;34m\"SeparatedCommaned.py\"\u001b[0m\u001b[1;33m,\u001b[0m \u001b[1;34m'exec'\u001b[0m\u001b[1;33m)\u001b[0m\u001b[1;33m)\u001b[0m\u001b[1;33m\u001b[0m\u001b[1;33m\u001b[0m\u001b[0m\n\u001b[0m\u001b[0;32m     18\u001b[0m \u001b[1;33m\u001b[0m\u001b[0m\n\u001b[0;32m     19\u001b[0m \u001b[1;31m# exec(compile(open(\"/var/lib/jupyter/notebooks/MainExec.py\", \"rb\").read(), \"SeparatedCommaned.py\", 'exec'))\u001b[0m\u001b[1;33m\u001b[0m\u001b[1;33m\u001b[0m\u001b[0m\n",
      "\u001b[1;31mFileNotFoundError\u001b[0m: [Errno 2] No such file or directory: '/var/lib/jupyter/notebooks/MainExec.py'"
     ]
    }
   ],
   "source": [
    "#spare: exec(compile(open(\"/var/lib/jupyter/notebooks/MainExec.py\", \"rb\").read(), \"SeparatedCommaned.py\", 'exec'))\n",
    "###### HOW TO USE #####\n",
    "# 1. Click the \"refresh kernel\" button (it's beside the stop button)\n",
    "# 2. Click \">| Run\" button\n",
    "\n",
    "# 3. Put in your file name (include the csv); then press enter. quotation marks are not needed\n",
    "\n",
    "# 4. Wait for the simulation to complete. This step will check if an error is going to occur.\n",
    "#    > This will take ~3 minutes\n",
    "\n",
    "# 5. If everything went well, you will see: \"SIMULATION COMPLETE\", and will ask your permission to continue the run\n",
    "#    > To continue run, fill \"Y\", then press ENTER\n",
    "#    > as final confirmation, press ENTER again\n",
    "#    > If otherwise an error was found, you can choose to continue the run anyway, or cancel it (fill \"N\", then press ENTER)\n",
    "\n",
    "\n",
    "exec(compile(open(\"/var/lib/jupyter/notebooks/MainExec.py\", \"rb\").read(), \"SeparatedCommaned.py\", 'exec'))\n",
    "\n",
    "# exec(compile(open(\"/var/lib/jupyter/notebooks/MainExec.py\", \"rb\").read(), \"SeparatedCommaned.py\", 'exec'))\n",
    "\n"
   ]
  },
  {
   "cell_type": "code",
   "execution_count": null,
   "metadata": {},
   "outputs": [],
   "source": []
  },
  {
   "cell_type": "code",
   "execution_count": null,
   "metadata": {},
   "outputs": [],
   "source": []
  },
  {
   "cell_type": "code",
   "execution_count": null,
   "metadata": {},
   "outputs": [],
   "source": []
  },
  {
   "cell_type": "code",
   "execution_count": null,
   "metadata": {},
   "outputs": [],
   "source": []
  },
  {
   "cell_type": "code",
   "execution_count": null,
   "metadata": {},
   "outputs": [],
   "source": []
  }
 ],
 "metadata": {
  "kernelspec": {
   "display_name": "Python 3 (ipykernel)",
   "language": "python",
   "name": "python3"
  },
  "language_info": {
   "codemirror_mode": {
    "name": "ipython",
    "version": 3
   },
   "file_extension": ".py",
   "mimetype": "text/x-python",
   "name": "python",
   "nbconvert_exporter": "python",
   "pygments_lexer": "ipython3",
   "version": "3.9.7"
  }
 },
 "nbformat": 4,
 "nbformat_minor": 4
}
