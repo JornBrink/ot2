{
 "cells": [
  {
   "cell_type": "code",
   "execution_count": null,
   "metadata": {},
   "outputs": [],
   "source": [
    "##############INSERT FILE NAME HERE###################\n",
    "fileName = \"dis.csv\"\n",
    "\n",
    "#IMPORTING LIBRARIES---------\n",
    "import os\n",
    "import opentrons.execute\n",
    "#sourceLoc = \"C:\\\\Users\\\\Sebastian\\\\Desktop\\\\MSc Leiden 2nd Year\\\\##LabAst Works\\\\ot2\"\n",
    "sourceLoc = '/var/lib/jupyter/notebooks/User Inputs'\n",
    "os.chdir(sourceLoc)\n",
    "from OT2_ControllerLib import *\n",
    "\n",
    "#READING COMMAND LIST----------\n",
    "#save_folder = \"C:\\\\Users\\\\Sebastian\\\\Desktop\\\\MSc Leiden 2nd Year\\\\##LabAst Works\\\\ot2\"\n",
    "save_folder = '/var/lib/jupyter/notebooks/User Inputs'\n",
    "os.chdir(save_folder)\n",
    "amtList, cmdList, deckMap = ReadCSV_Dat(fileName)\n",
    "\n",
    "########### EXECUTE/SIMULATE ############\n",
    "from opentrons import simulate\n",
    "#define protocol\n",
    "bep = opentrons.execute.get_protocol_api('2.3')\n",
    "#bep = simulate.get_protocol_api('2.3')\n",
    "#Operation\n",
    "bep.home()\n",
    "run(bep, cmdList, deckMap, amtList) "
   ]
  }
 ],
 "metadata": {
  "kernelspec": {
   "display_name": "Python 3",
   "language": "python",
   "name": "python3"
  },
  "language_info": {
   "codemirror_mode": {
    "name": "ipython",
    "version": 3
   },
   "file_extension": ".py",
   "mimetype": "text/x-python",
   "name": "python",
   "nbconvert_exporter": "python",
   "pygments_lexer": "ipython3",
   "version": "3.7.6"
  }
 },
 "nbformat": 4,
 "nbformat_minor": 4
}
