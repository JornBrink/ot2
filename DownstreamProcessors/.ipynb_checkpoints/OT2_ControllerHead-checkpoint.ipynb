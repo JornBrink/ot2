{
 "cells": [
  {
   "cell_type": "code",
   "execution_count": 1,
   "metadata": {},
   "outputs": [
    {
     "ename": "FileNotFoundError",
     "evalue": "[Errno 2] No such file or directory: 'C:\\\\Users\\\\Sebastian\\\\Desktop\\\\MSc Leiden 2nd Year\\\\##LabAst Works\\\\ot2\\\\DownstreamProcessors\\\\SeparatedCommaned.py'",
     "output_type": "error",
     "traceback": [
      "\u001b[1;31m---------------------------------------------------------------------------\u001b[0m",
      "\u001b[1;31mFileNotFoundError\u001b[0m                         Traceback (most recent call last)",
      "\u001b[1;32m<ipython-input-1-6426800e16d3>\u001b[0m in \u001b[0;36m<module>\u001b[1;34m\u001b[0m\n\u001b[0;32m      1\u001b[0m \u001b[1;31m#EXECUTE\u001b[0m\u001b[1;33m\u001b[0m\u001b[1;33m\u001b[0m\u001b[1;33m\u001b[0m\u001b[0m\n\u001b[1;32m----> 2\u001b[1;33m \u001b[0mexec\u001b[0m\u001b[1;33m(\u001b[0m\u001b[0mcompile\u001b[0m\u001b[1;33m(\u001b[0m\u001b[0mopen\u001b[0m\u001b[1;33m(\u001b[0m\u001b[1;34m\"C:\\\\Users\\\\Sebastian\\\\Desktop\\\\MSc Leiden 2nd Year\\\\##LabAst Works\\\\ot2\\\\DownstreamProcessors\\\\SeparatedCommaned.py\"\u001b[0m\u001b[1;33m,\u001b[0m \u001b[1;34m\"rb\"\u001b[0m\u001b[1;33m)\u001b[0m\u001b[1;33m.\u001b[0m\u001b[0mread\u001b[0m\u001b[1;33m(\u001b[0m\u001b[1;33m)\u001b[0m\u001b[1;33m,\u001b[0m \u001b[1;34m\"SeparatedCommaned.py\"\u001b[0m\u001b[1;33m,\u001b[0m \u001b[1;34m'exec'\u001b[0m\u001b[1;33m)\u001b[0m\u001b[1;33m)\u001b[0m\u001b[1;33m\u001b[0m\u001b[1;33m\u001b[0m\u001b[0m\n\u001b[0m\u001b[0;32m      3\u001b[0m \u001b[1;33m\u001b[0m\u001b[0m\n\u001b[0;32m      4\u001b[0m \u001b[1;31m#exec(compile(open(\"/var/lib/jupyter/notebooks/MainExec.py\", \"rb\").read(), \"SeparatedCommaned.py\", 'exec'))\u001b[0m\u001b[1;33m\u001b[0m\u001b[1;33m\u001b[0m\u001b[1;33m\u001b[0m\u001b[0m\n",
      "\u001b[1;31mFileNotFoundError\u001b[0m: [Errno 2] No such file or directory: 'C:\\\\Users\\\\Sebastian\\\\Desktop\\\\MSc Leiden 2nd Year\\\\##LabAst Works\\\\ot2\\\\DownstreamProcessors\\\\SeparatedCommaned.py'"
     ]
    }
   ],
   "source": [
    "#EXECUTE\n",
    "exec(compile(open(\"C:\\\\Users\\\\Sebastian\\\\Desktop\\\\MSc Leiden 2nd Year\\\\##LabAst Works\\\\ot2\\\\DownstreamProcessors\\\\MainExec.py\", \"rb\").read(), \"SeparatedCommaned.py\", 'exec'))\n",
    "\n",
    "#exec(compile(open(\"/var/lib/jupyter/notebooks/MainExec.py\", \"rb\").read(), \"SeparatedCommaned.py\", 'exec'))\n"
   ]
  }
 ],
 "metadata": {
  "kernelspec": {
   "display_name": "Python 3",
   "language": "python",
   "name": "python3"
  },
  "language_info": {
   "codemirror_mode": {
    "name": "ipython",
    "version": 3
   },
   "file_extension": ".py",
   "mimetype": "text/x-python",
   "name": "python",
   "nbconvert_exporter": "python",
   "pygments_lexer": "ipython3",
   "version": "3.7.6"
  }
 },
 "nbformat": 4,
 "nbformat_minor": 4
}
