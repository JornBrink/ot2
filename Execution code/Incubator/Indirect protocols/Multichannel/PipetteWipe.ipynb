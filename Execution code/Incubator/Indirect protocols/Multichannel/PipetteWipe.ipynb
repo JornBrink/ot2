{
 "cells": [
  {
   "cell_type": "code",
   "execution_count": 1,
   "metadata": {},
   "outputs": [
    {
     "name": "stderr",
     "output_type": "stream",
     "text": [
      "Failed to initialize character device, will not be able to control gpios (lights, button, smoothiekill, smoothie reset). Only one connection can be made to the gpios at a time. If you need to control gpios, first stop the robot server with systemctl stop opentrons-robot-server. Until you restart the server with systemctl start opentrons-robot-server, you will be unable to control the robot using the Opentrons app.\n"
     ]
    },
    {
     "name": "stdout",
     "output_type": "stream",
     "text": [
      "Move pipette to front\n",
      "Continue to next pipette\n",
      "Finish\n"
     ]
    }
   ],
   "source": [
    "from opentrons import protocol_api\n",
    "import opentrons.execute\n",
    "\n",
    "##############################   METADATA   ##############################\n",
    "metadata = {\n",
    "    'protocolName': 'Pipette Cleaning',\n",
    "    'author': 'Sebastian T. Tandar <sebastian.tandar@gmail.com>',\n",
    "    'description': 'General translator to Python 2.5 API__patch 20201221',\n",
    "    'apiLevel': '2.5'\n",
    "}\n",
    "\n",
    "def run(protocol: protocol_api.ProtocolContext):\n",
    "    #load pipettes\n",
    "        #single-channel\n",
    "    right_pipette = protocol.load_instrument('p300_single_gen2', 'right')\n",
    "        #multi-channel\n",
    "    left_pipette = protocol.load_instrument('p300_multi_gen2', 'left')\n",
    "    \n",
    "    #load dummy tiprack\n",
    "    tiprack = protocol.load_labware('opentrons_96_tiprack_300ul', 2)\n",
    "    \n",
    "    #move pipette to front\n",
    "    input('Move pipette to front')\n",
    "    right_pipette.move_to(tiprack['A1'].top())\n",
    "    \n",
    "    #switch pipette\n",
    "    input('Continue to next pipette')\n",
    "    right_pipette.home()\n",
    "    left_pipette.move_to(tiprack['A1'].top())\n",
    "    \n",
    "    #home if complete\n",
    "    input('Finish')\n",
    "    protocol.home()\n",
    "\n",
    "#EXECUTE\n",
    "bep = opentrons.execute.get_protocol_api('2.5') #load protocol API\n",
    "bep.home()\n",
    "run(bep)\n"
   ]
  },
  {
   "cell_type": "code",
   "execution_count": null,
   "metadata": {},
   "outputs": [],
   "source": [
    "\n"
   ]
  },
  {
   "cell_type": "code",
   "execution_count": null,
   "metadata": {},
   "outputs": [],
   "source": []
  }
 ],
 "metadata": {
  "kernelspec": {
   "display_name": "Python 3",
   "language": "python",
   "name": "python3"
  },
  "language_info": {
   "codemirror_mode": {
    "name": "ipython",
    "version": 3
   },
   "file_extension": ".py",
   "mimetype": "text/x-python",
   "name": "python",
   "nbconvert_exporter": "python",
   "pygments_lexer": "ipython3",
   "version": "3.7.1"
  }
 },
 "nbformat": 4,
 "nbformat_minor": 2
}
